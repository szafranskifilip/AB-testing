{
 "cells": [
  {
   "cell_type": "markdown",
   "id": "8604746d-0e26-44a0-a8b4-7ce0560dd11b",
   "metadata": {},
   "source": [
    "In data science, the one-sample t-test and the two-sample t-test are both statistical tests used to determine if there is a significant difference between two sets of data.\n",
    "\n",
    "The main difference between the two tests is in the number of samples being compared.\n",
    "\n",
    "The **one-sample t-test** is used when you want to compare a single sample to a known population mean. For example, if you want to determine if the average height of a group of students is significantly different from the average height of the general population, you would use a one-sample t-test.\n",
    "\n",
    "The **two-sample t-test** is used when you want to compare the means of two independent samples. For example, if you want to determine if there is a significant difference in the average height between male and female students, you would use a two-sample t-test.\n",
    "\n",
    "In both tests, **the t-statistic is calculated based on the difference between the means of the samples and the variability within the samples**. The p-value is then calculated based on the t-statistic and the degrees of freedom. If the p-value is less than the chosen significance level (usually 0.05), it is concluded that there is a significant difference between the two samples."
   ]
  },
  {
   "cell_type": "markdown",
   "id": "f076608b-79ed-4ecd-9b68-7f095402cd21",
   "metadata": {},
   "source": [
    "# Performing A/B testing for a landing page conversion using Python involves several key steps. Here is a general outline of the steps involved:\n",
    "\n",
    "1. **Define the hypothesis**: The first step is to clearly define the null and alternative hypotheses for the A/B test. For example, the null hypothesis might be that there is no significant difference in conversion rates between the original landing page and the new landing page, while the alternative hypothesis might be that the new landing page has a higher conversion rate than the original landing page.\n",
    "\n",
    "2. Choose the **sample size**: Next, you need to choose the sample size for the A/B test. This involves determining the:\n",
    "- minimum detectable effect size, \n",
    "- the significance level, \n",
    "- and the power of the test. \n",
    "\n",
    "There are several online calculators and Python libraries that can help you with this step.\n",
    "\n",
    "samle size = 16\n",
    "\n",
    "3. Collect the data: The next step is to collect the data that you will use to test the hypothesis. This involves randomly assigning visitors to the landing page to either the control group (original landing page) or the treatment group (new landing page) and recording their conversion rates.\n",
    "\n",
    "4. Calculate the metrics: Once you have collected the data, you need to calculate the metrics that you will use to test the hypothesis. The most common metrics for A/B testing are the conversion rate, the confidence interval, and the p-value.\n",
    "\n",
    "5. Analyze the results: The next step is to analyze the results of the A/B test to determine whether there is a significant difference in conversion rates between the control group and the treatment group. This involves comparing the metrics calculated in step 4 to the significance level and the confidence interval.\n",
    "\n",
    "6. Draw conclusions and report results: The final step is to draw conclusions based on the results of the A/B test and report the findings in a clear and concise manner. This involves interpreting the results, discussing the implications of the findings, and making recommendations for future action.\n",
    "\n",
    "\n",
    "Here are some specific Python libraries and functions that you can use to perform A/B testing:\n",
    "\n",
    "- Pandas: Pandas is a powerful data analysis library that you can use to manage and analyze your A/B test data.\n",
    "\n",
    "- SciPy: SciPy is a Python library that provides a wide range of statistical functions and methods, including t-tests and p-value calculations.\n",
    "\n",
    "- Statsmodels: Statsmodels is a Python library that provides a range of statistical models and methods, including hypothesis testing and regression analysis.\n",
    "\n",
    "- Matplotlib: Matplotlib is a Python library that you can use to create graphs and visualizations of your A/B test results.\n",
    "\n",
    "In terms of metrics, the most important metrics to calculate for A/B testing are the conversion rate, the confidence interval, and the p-value. The conversion rate is the percentage of visitors who convert on the landing page, while the confidence interval is the range of values that the true conversion rate is likely to fall within. The p-value is the probability of obtaining a result as extreme or more extreme than the one you observed, assuming the null hypothesis is true. Typically, a p-value less than 0.05 is considered significant and indicates that there is strong evidence against the null hypothesis.\n",
    "\n",
    "COMMON PROBLEMS:\n",
    "\n",
    "1. Novelty and Primacy Effect\n",
    "People may like or dislike the new version of a webiste because some of them prefered the original version while some like the updated one more. This will stabilize with time. HOW TO DEAL WITH IT?: run tests on ly on first time users. If the test is running compare the first time users with the old users in the treatment group\n",
    "2. Interference between control and treatment group\n",
    "Users should be split randomly and users should be independent. This won't pertain to i.e. social networks where some users behaviour is impacted by other users. (netweork effect)\n",
    "3. Dealing with interference and bias\n",
    "isolate users in the control and treatment group depends on a scenario - geo-based split, time-based, etc., create clusters"
   ]
  },
  {
   "cell_type": "markdown",
   "id": "c31d0e39-b571-44f3-a977-f81d8ffeb60c",
   "metadata": {
    "tags": []
   },
   "source": [
    "### Define the hyphotesis: \n",
    "- Null hyphotesis - no significant difference in conversion\n",
    "- Alternative hypothesis - new landing page has a higher conversion rate than the original landing page\n",
    "\n",
    "### Choose the smaples size\n",
    "1. Determine the minimum detectable effect size: This is the smallest difference in conversion rates that you want to be able to detect with your A/B test. This can be based on prior knowledge, industry benchmarks, or other factors.\n",
    "\n",
    "2. Choose a significance level: This is the probability of rejecting the null hypothesis when it is true, also known as the type I error rate. The most common significance level is 0.05, which means that there is a 5% chance of incorrectly rejecting the null hypothesis.\n",
    "\n",
    "3. Determine the statistical power: This is the probability of correctly rejecting the null hypothesis when it is false, also known as the type II error rate. The most common statistical power is 0.8, which means that there is an 80% chance of correctly rejecting the null hypothesis when it is false.\n",
    "\n",
    "4. Use a sample size calculator: You can use a sample size calculator, such as the one provided by Python's statsmodels library, to determine the sample size needed to achieve the desired power and significance level.\n",
    "\n",
    "### Collect the data\n",
    "\n",
    "df_data = pd.read_csv('data/ab_data.csv')\n"
   ]
  },
  {
   "cell_type": "code",
   "execution_count": 2,
   "id": "aadef0f7-9ea2-4c7d-93b9-f81c27aeda5d",
   "metadata": {},
   "outputs": [
    {
     "name": "stdout",
     "output_type": "stream",
     "text": [
      "Sample size:  309.81\n"
     ]
    }
   ],
   "source": [
    "import statsmodels.stats.api as sms\n",
    "\n",
    "# baseline conversion rate (control group)\n",
    "baseline_cr = 0.10\n",
    "\n",
    "# minimum detectable effect size (in proportion units)\n",
    "min_detectable_effect = 0.02\n",
    "\n",
    "# significance level\n",
    "alpha = 0.05\n",
    "\n",
    "# statistical power\n",
    "power = 0.80\n",
    "\n",
    "# calculate the sample size\n",
    "sample_size = sms.TTestIndPower().solve_power(effect_size=min_detectable_effect/baseline_cr, alpha=alpha, power=power, alternative='larger')\n",
    "\n",
    "print(\"Sample size: \", round(sample_size, 2))\n"
   ]
  },
  {
   "cell_type": "code",
   "execution_count": 3,
   "id": "56ce2680-abf8-425e-8420-16ee07f942ea",
   "metadata": {},
   "outputs": [
    {
     "name": "stderr",
     "output_type": "stream",
     "text": [
      "[nltk_data] Downloading package stopwords to\n",
      "[nltk_data]     C:\\Users\\ADMIN\\AppData\\Roaming\\nltk_data...\n",
      "[nltk_data]   Package stopwords is already up-to-date!\n",
      "[nltk_data] Downloading package punkt to\n",
      "[nltk_data]     C:\\Users\\ADMIN\\AppData\\Roaming\\nltk_data...\n",
      "[nltk_data]   Package punkt is already up-to-date!\n"
     ]
    }
   ],
   "source": [
    "#Import libraries\n",
    "import nltk\n",
    "nltk.download('stopwords')\n",
    "nltk.download('punkt')\n",
    "from nltk.corpus import stopwords\n",
    "from nltk import word_tokenize, FreqDist\n",
    "from nltk.util import ngrams\n",
    "\n",
    "import string\n",
    "#from wordcloud import WordCloud, STOPWORDS\n",
    "\n",
    "import matplotlib.pyplot as plt\n",
    "import pandas as pd\n",
    "import numpy as np\n",
    "import seaborn as sns\n",
    "from datetime import datetime, timedelta\n",
    "\n",
    "import gensim\n",
    "from gensim.models import Word2Vec\n",
    "\n",
    "#from wordcloud import WordCloud, STOPWORDS\n",
    "\n",
    "np.random.seed(0)\n",
    "\n",
    "%matplotlib inline\n",
    "plt.style.use('seaborn')\n",
    "\n",
    "import warnings\n",
    "warnings.filterwarnings('ignore')"
   ]
  },
  {
   "cell_type": "markdown",
   "id": "7ff23918-b589-417d-9e77-0eb058e1d6e6",
   "metadata": {},
   "source": [
    "## 1. EDA"
   ]
  },
  {
   "cell_type": "code",
   "execution_count": 4,
   "id": "be9d1dbf-b483-45cc-8994-5f1d3de063a1",
   "metadata": {},
   "outputs": [
    {
     "data": {
      "text/html": [
       "<div>\n",
       "<style scoped>\n",
       "    .dataframe tbody tr th:only-of-type {\n",
       "        vertical-align: middle;\n",
       "    }\n",
       "\n",
       "    .dataframe tbody tr th {\n",
       "        vertical-align: top;\n",
       "    }\n",
       "\n",
       "    .dataframe thead th {\n",
       "        text-align: right;\n",
       "    }\n",
       "</style>\n",
       "<table border=\"1\" class=\"dataframe\">\n",
       "  <thead>\n",
       "    <tr style=\"text-align: right;\">\n",
       "      <th></th>\n",
       "      <th>user_id</th>\n",
       "      <th>timestamp</th>\n",
       "      <th>group</th>\n",
       "      <th>landing_page</th>\n",
       "      <th>converted</th>\n",
       "    </tr>\n",
       "  </thead>\n",
       "  <tbody>\n",
       "    <tr>\n",
       "      <th>0</th>\n",
       "      <td>851104</td>\n",
       "      <td>11:48.6</td>\n",
       "      <td>control</td>\n",
       "      <td>old_page</td>\n",
       "      <td>0</td>\n",
       "    </tr>\n",
       "    <tr>\n",
       "      <th>1</th>\n",
       "      <td>804228</td>\n",
       "      <td>01:45.2</td>\n",
       "      <td>control</td>\n",
       "      <td>old_page</td>\n",
       "      <td>0</td>\n",
       "    </tr>\n",
       "    <tr>\n",
       "      <th>2</th>\n",
       "      <td>661590</td>\n",
       "      <td>55:06.2</td>\n",
       "      <td>treatment</td>\n",
       "      <td>new_page</td>\n",
       "      <td>0</td>\n",
       "    </tr>\n",
       "    <tr>\n",
       "      <th>3</th>\n",
       "      <td>853541</td>\n",
       "      <td>28:03.1</td>\n",
       "      <td>treatment</td>\n",
       "      <td>new_page</td>\n",
       "      <td>0</td>\n",
       "    </tr>\n",
       "    <tr>\n",
       "      <th>4</th>\n",
       "      <td>864975</td>\n",
       "      <td>52:26.2</td>\n",
       "      <td>control</td>\n",
       "      <td>old_page</td>\n",
       "      <td>1</td>\n",
       "    </tr>\n",
       "  </tbody>\n",
       "</table>\n",
       "</div>"
      ],
      "text/plain": [
       "   user_id timestamp      group landing_page  converted\n",
       "0   851104   11:48.6    control     old_page          0\n",
       "1   804228   01:45.2    control     old_page          0\n",
       "2   661590   55:06.2  treatment     new_page          0\n",
       "3   853541   28:03.1  treatment     new_page          0\n",
       "4   864975   52:26.2    control     old_page          1"
      ]
     },
     "execution_count": 4,
     "metadata": {},
     "output_type": "execute_result"
    }
   ],
   "source": [
    "df_data = pd.read_csv('data/ab_data.csv')\n",
    "df_data.head()"
   ]
  },
  {
   "cell_type": "code",
   "execution_count": 5,
   "id": "5023234f-794b-46a2-8f72-51cca5ca8edf",
   "metadata": {},
   "outputs": [
    {
     "name": "stdout",
     "output_type": "stream",
     "text": [
      "<class 'pandas.core.frame.DataFrame'>\n",
      "RangeIndex: 294480 entries, 0 to 294479\n",
      "Data columns (total 5 columns):\n",
      " #   Column        Non-Null Count   Dtype \n",
      "---  ------        --------------   ----- \n",
      " 0   user_id       294480 non-null  int64 \n",
      " 1   timestamp     294480 non-null  object\n",
      " 2   group         294480 non-null  object\n",
      " 3   landing_page  294480 non-null  object\n",
      " 4   converted     294480 non-null  int64 \n",
      "dtypes: int64(2), object(3)\n",
      "memory usage: 11.2+ MB\n"
     ]
    }
   ],
   "source": [
    "df_data.info()"
   ]
  },
  {
   "cell_type": "markdown",
   "id": "874ade46-2705-4f9b-b221-e3cf736d0a32",
   "metadata": {},
   "source": [
    "1.1 Unique users and returning unsers"
   ]
  },
  {
   "cell_type": "code",
   "execution_count": 6,
   "id": "aa441abf-ba12-4d9e-9ed6-11e3f576d052",
   "metadata": {},
   "outputs": [
    {
     "data": {
      "text/plain": [
       "290585"
      ]
     },
     "execution_count": 6,
     "metadata": {},
     "output_type": "execute_result"
    }
   ],
   "source": [
    "#Unique users\n",
    "df_data['user_id'].nunique()"
   ]
  },
  {
   "cell_type": "code",
   "execution_count": 7,
   "id": "f3efcfdf-6a8d-4b7e-8393-578ad09ce068",
   "metadata": {},
   "outputs": [
    {
     "data": {
      "text/plain": [
       "3895"
      ]
     },
     "execution_count": 7,
     "metadata": {},
     "output_type": "execute_result"
    }
   ],
   "source": [
    "#Returning users\n",
    "len(df_data) - df_data['user_id'].nunique()"
   ]
  },
  {
   "cell_type": "code",
   "execution_count": 8,
   "id": "3df7c002-ec80-496a-bf07-363120143b79",
   "metadata": {},
   "outputs": [
    {
     "data": {
      "text/html": [
       "<div>\n",
       "<style scoped>\n",
       "    .dataframe tbody tr th:only-of-type {\n",
       "        vertical-align: middle;\n",
       "    }\n",
       "\n",
       "    .dataframe tbody tr th {\n",
       "        vertical-align: top;\n",
       "    }\n",
       "\n",
       "    .dataframe thead th {\n",
       "        text-align: right;\n",
       "    }\n",
       "</style>\n",
       "<table border=\"1\" class=\"dataframe\">\n",
       "  <thead>\n",
       "    <tr style=\"text-align: right;\">\n",
       "      <th></th>\n",
       "      <th>user_id</th>\n",
       "      <th>timestamp</th>\n",
       "      <th>group</th>\n",
       "      <th>landing_page</th>\n",
       "      <th>converted</th>\n",
       "    </tr>\n",
       "  </thead>\n",
       "  <tbody>\n",
       "    <tr>\n",
       "      <th>2656</th>\n",
       "      <td>698120</td>\n",
       "      <td>13:42.6</td>\n",
       "      <td>control</td>\n",
       "      <td>old_page</td>\n",
       "      <td>0</td>\n",
       "    </tr>\n",
       "    <tr>\n",
       "      <th>2893</th>\n",
       "      <td>773192</td>\n",
       "      <td>55:59.6</td>\n",
       "      <td>treatment</td>\n",
       "      <td>new_page</td>\n",
       "      <td>0</td>\n",
       "    </tr>\n",
       "    <tr>\n",
       "      <th>7500</th>\n",
       "      <td>899953</td>\n",
       "      <td>06:54.1</td>\n",
       "      <td>control</td>\n",
       "      <td>new_page</td>\n",
       "      <td>0</td>\n",
       "    </tr>\n",
       "    <tr>\n",
       "      <th>8036</th>\n",
       "      <td>790934</td>\n",
       "      <td>32:20.3</td>\n",
       "      <td>treatment</td>\n",
       "      <td>new_page</td>\n",
       "      <td>0</td>\n",
       "    </tr>\n",
       "    <tr>\n",
       "      <th>10218</th>\n",
       "      <td>633793</td>\n",
       "      <td>16:00.7</td>\n",
       "      <td>treatment</td>\n",
       "      <td>old_page</td>\n",
       "      <td>0</td>\n",
       "    </tr>\n",
       "  </tbody>\n",
       "</table>\n",
       "</div>"
      ],
      "text/plain": [
       "       user_id timestamp      group landing_page  converted\n",
       "2656    698120   13:42.6    control     old_page          0\n",
       "2893    773192   55:59.6  treatment     new_page          0\n",
       "7500    899953   06:54.1    control     new_page          0\n",
       "8036    790934   32:20.3  treatment     new_page          0\n",
       "10218   633793   16:00.7  treatment     old_page          0"
      ]
     },
     "execution_count": 8,
     "metadata": {},
     "output_type": "execute_result"
    }
   ],
   "source": [
    "df_returning_users = df_data[df_data['user_id'].duplicated()]\n",
    "df_returning_users.head()"
   ]
  },
  {
   "cell_type": "code",
   "execution_count": 9,
   "id": "030a77c4-094c-4772-80d2-6785c5512639",
   "metadata": {},
   "outputs": [
    {
     "name": "stdout",
     "output_type": "stream",
     "text": [
      "old_page_conversion:  17739\n",
      "old_page_visitors:  147239\n",
      "new_page_conversion:  17498\n",
      "new_page_visitors:  147241\n"
     ]
    }
   ],
   "source": [
    "#Calculate conversion rates\n",
    "old_page_df = df_data[df_data['landing_page'] == 'old_page']\n",
    "new_page_df = df_data[df_data['landing_page'] == 'new_page']\n",
    "\n",
    "old_page_conversion = old_page_df['converted'].sum()\n",
    "old_page_visitors = len(old_page_df)\n",
    "new_page_conversion = new_page_df['converted'].sum()\n",
    "new_page_visitors = len(new_page_df)\n",
    "\n",
    "print('old_page_conversion: ', old_page_conversion)\n",
    "print('old_page_visitors: ', old_page_visitors)\n",
    "print('new_page_conversion: ', new_page_conversion)\n",
    "print('new_page_visitors: ', new_page_visitors)"
   ]
  },
  {
   "cell_type": "code",
   "execution_count": 10,
   "id": "ace7394c-7867-492e-99a9-e858be580f5e",
   "metadata": {},
   "outputs": [
    {
     "name": "stdout",
     "output_type": "stream",
     "text": [
      "t-statistic: 1.369696647980389\n",
      "p-value: 0.1707826599051773\n"
     ]
    }
   ],
   "source": [
    "import scipy.stats as stats\n",
    "\n",
    "# conversion counts for control group and treatment group\n",
    "control_conversions = old_page_conversion\n",
    "control_visitors = old_page_visitors\n",
    "treatment_conversions = new_page_conversion\n",
    "treatment_visitors = new_page_visitors\n",
    "\n",
    "# conversion rates for control group and treatment group\n",
    "control_rate = control_conversions / control_visitors\n",
    "treatment_rate = treatment_conversions / treatment_visitors\n",
    "\n",
    "# perform t-test for independent samples\n",
    "t_stat, p_value = stats.ttest_ind_from_stats(control_rate, np.sqrt(control_rate*(1-control_rate)), control_visitors,\n",
    "                                             treatment_rate, np.sqrt(treatment_rate*(1-treatment_rate)), treatment_visitors)\n",
    "\n",
    "print(\"t-statistic:\", t_stat)\n",
    "print(\"p-value:\", p_value)"
   ]
  },
  {
   "cell_type": "markdown",
   "id": "59716a0f-081b-49b7-b4b1-fc9cbad67372",
   "metadata": {},
   "source": [
    "## Discrete Metrics\n",
    "Let's consider first discrete metrics, e.g. click-though rate. We randomly show visitors one of two possible designs of an advertisement, and based on how many of them click on it we need to determine whether our data significantly contradict the hypothesis that the two designs are equivalently efficient."
   ]
  },
  {
   "cell_type": "code",
   "execution_count": 11,
   "id": "d4b6fe99-447d-4e91-9cb2-a12471b8bfb9",
   "metadata": {},
   "outputs": [
    {
     "data": {
      "text/html": [
       "<div>\n",
       "<style scoped>\n",
       "    .dataframe tbody tr th:only-of-type {\n",
       "        vertical-align: middle;\n",
       "    }\n",
       "\n",
       "    .dataframe tbody tr th {\n",
       "        vertical-align: top;\n",
       "    }\n",
       "\n",
       "    .dataframe thead th {\n",
       "        text-align: right;\n",
       "    }\n",
       "</style>\n",
       "<table border=\"1\" class=\"dataframe\">\n",
       "  <thead>\n",
       "    <tr style=\"text-align: right;\">\n",
       "      <th></th>\n",
       "      <th>user_id</th>\n",
       "      <th>timestamp</th>\n",
       "      <th>group</th>\n",
       "      <th>landing_page</th>\n",
       "      <th>converted</th>\n",
       "      <th>not_converted</th>\n",
       "    </tr>\n",
       "  </thead>\n",
       "  <tbody>\n",
       "    <tr>\n",
       "      <th>0</th>\n",
       "      <td>851104</td>\n",
       "      <td>11:48.6</td>\n",
       "      <td>control</td>\n",
       "      <td>old_page</td>\n",
       "      <td>0</td>\n",
       "      <td>1</td>\n",
       "    </tr>\n",
       "    <tr>\n",
       "      <th>1</th>\n",
       "      <td>804228</td>\n",
       "      <td>01:45.2</td>\n",
       "      <td>control</td>\n",
       "      <td>old_page</td>\n",
       "      <td>0</td>\n",
       "      <td>1</td>\n",
       "    </tr>\n",
       "    <tr>\n",
       "      <th>2</th>\n",
       "      <td>661590</td>\n",
       "      <td>55:06.2</td>\n",
       "      <td>treatment</td>\n",
       "      <td>new_page</td>\n",
       "      <td>0</td>\n",
       "      <td>1</td>\n",
       "    </tr>\n",
       "    <tr>\n",
       "      <th>3</th>\n",
       "      <td>853541</td>\n",
       "      <td>28:03.1</td>\n",
       "      <td>treatment</td>\n",
       "      <td>new_page</td>\n",
       "      <td>0</td>\n",
       "      <td>1</td>\n",
       "    </tr>\n",
       "    <tr>\n",
       "      <th>4</th>\n",
       "      <td>864975</td>\n",
       "      <td>52:26.2</td>\n",
       "      <td>control</td>\n",
       "      <td>old_page</td>\n",
       "      <td>1</td>\n",
       "      <td>0</td>\n",
       "    </tr>\n",
       "    <tr>\n",
       "      <th>5</th>\n",
       "      <td>936923</td>\n",
       "      <td>20:49.1</td>\n",
       "      <td>control</td>\n",
       "      <td>old_page</td>\n",
       "      <td>0</td>\n",
       "      <td>1</td>\n",
       "    </tr>\n",
       "    <tr>\n",
       "      <th>6</th>\n",
       "      <td>679687</td>\n",
       "      <td>26:46.9</td>\n",
       "      <td>treatment</td>\n",
       "      <td>new_page</td>\n",
       "      <td>1</td>\n",
       "      <td>0</td>\n",
       "    </tr>\n",
       "    <tr>\n",
       "      <th>7</th>\n",
       "      <td>719014</td>\n",
       "      <td>48:29.5</td>\n",
       "      <td>control</td>\n",
       "      <td>old_page</td>\n",
       "      <td>0</td>\n",
       "      <td>1</td>\n",
       "    </tr>\n",
       "    <tr>\n",
       "      <th>8</th>\n",
       "      <td>817355</td>\n",
       "      <td>58:09.0</td>\n",
       "      <td>treatment</td>\n",
       "      <td>new_page</td>\n",
       "      <td>1</td>\n",
       "      <td>0</td>\n",
       "    </tr>\n",
       "    <tr>\n",
       "      <th>9</th>\n",
       "      <td>839785</td>\n",
       "      <td>11:06.6</td>\n",
       "      <td>treatment</td>\n",
       "      <td>new_page</td>\n",
       "      <td>1</td>\n",
       "      <td>0</td>\n",
       "    </tr>\n",
       "  </tbody>\n",
       "</table>\n",
       "</div>"
      ],
      "text/plain": [
       "   user_id timestamp      group landing_page  converted  not_converted\n",
       "0   851104   11:48.6    control     old_page          0              1\n",
       "1   804228   01:45.2    control     old_page          0              1\n",
       "2   661590   55:06.2  treatment     new_page          0              1\n",
       "3   853541   28:03.1  treatment     new_page          0              1\n",
       "4   864975   52:26.2    control     old_page          1              0\n",
       "5   936923   20:49.1    control     old_page          0              1\n",
       "6   679687   26:46.9  treatment     new_page          1              0\n",
       "7   719014   48:29.5    control     old_page          0              1\n",
       "8   817355   58:09.0  treatment     new_page          1              0\n",
       "9   839785   11:06.6  treatment     new_page          1              0"
      ]
     },
     "execution_count": 11,
     "metadata": {},
     "output_type": "execute_result"
    }
   ],
   "source": [
    "df_unique = df_data.drop_duplicates(subset=['user_id'], keep='first')\n",
    "df_unique['not_converted'] = 1 - df_unique['converted']\n",
    "df_unique.head(10)"
   ]
  },
  {
   "cell_type": "code",
   "execution_count": 12,
   "id": "3de0419f-0aa1-4ab9-864d-8530f41c2d64",
   "metadata": {},
   "outputs": [
    {
     "data": {
      "text/html": [
       "<div>\n",
       "<style scoped>\n",
       "    .dataframe tbody tr th:only-of-type {\n",
       "        vertical-align: middle;\n",
       "    }\n",
       "\n",
       "    .dataframe tbody tr th {\n",
       "        vertical-align: top;\n",
       "    }\n",
       "\n",
       "    .dataframe thead th {\n",
       "        text-align: right;\n",
       "    }\n",
       "</style>\n",
       "<table border=\"1\" class=\"dataframe\">\n",
       "  <thead>\n",
       "    <tr style=\"text-align: right;\">\n",
       "      <th></th>\n",
       "      <th>converted</th>\n",
       "      <th>not_converted</th>\n",
       "    </tr>\n",
       "    <tr>\n",
       "      <th>landing_page</th>\n",
       "      <th></th>\n",
       "      <th></th>\n",
       "    </tr>\n",
       "  </thead>\n",
       "  <tbody>\n",
       "    <tr>\n",
       "      <th>new_page</th>\n",
       "      <td>17256</td>\n",
       "      <td>128065</td>\n",
       "    </tr>\n",
       "    <tr>\n",
       "      <th>old_page</th>\n",
       "      <td>17489</td>\n",
       "      <td>127775</td>\n",
       "    </tr>\n",
       "  </tbody>\n",
       "</table>\n",
       "</div>"
      ],
      "text/plain": [
       "              converted  not_converted\n",
       "landing_page                          \n",
       "new_page          17256         128065\n",
       "old_page          17489         127775"
      ]
     },
     "execution_count": 12,
     "metadata": {},
     "output_type": "execute_result"
    }
   ],
   "source": [
    "df_unique_ct = df_unique[['landing_page', 'converted', 'not_converted']].groupby(by=[\"landing_page\"]).sum()\n",
    "df_unique_ct"
   ]
  },
  {
   "cell_type": "markdown",
   "id": "93296286-021e-4a93-b1dd-5078aba29335",
   "metadata": {},
   "source": [
    "### Fisher's exact test\n",
    "Since we have a 2x2 contingency table we can use Fisher's exact test to compute an exact p-value and test our hypothesis.\n",
    "\n",
    "Fisher’s exact test is practically applied when sample sizes are small."
   ]
  },
  {
   "cell_type": "code",
   "execution_count": 28,
   "id": "922eda33-3107-4fb9-8c2e-f069201d7331",
   "metadata": {},
   "outputs": [],
   "source": [
    "odds_ratio, p_value = stats.fisher_exact(df_unique_ct, alternative='two-sided')"
   ]
  },
  {
   "cell_type": "code",
   "execution_count": 36,
   "id": "5d88ed74-6b0d-4000-bbe0-fb83d9f3ac6f",
   "metadata": {},
   "outputs": [
    {
     "name": "stdout",
     "output_type": "stream",
     "text": [
      "Fisher's exact test p-value is:  0.1717870662804108\n"
     ]
    }
   ],
   "source": [
    "#print(\"statistic:\", t_stat)\n",
    "print(\"Fisher's exact test p-value is: \", p_value)"
   ]
  },
  {
   "cell_type": "markdown",
   "id": "8696c35d-fb56-4afe-b8e0-6dba88e68ca7",
   "metadata": {},
   "source": [
    "### Pearson’s chi-squared test\n",
    "\n",
    "Pearson's Chi-Squared test is a two-tailed test.\n",
    "\n",
    "The null hypothesis in the test is that there is no association between the two categorical variables being compared. The alternative hypothesis is that there is some association between the variables."
   ]
  },
  {
   "cell_type": "code",
   "execution_count": 30,
   "id": "cb1a4fd0-e22c-4448-9411-c752a032b47d",
   "metadata": {},
   "outputs": [
    {
     "data": {
      "text/plain": [
       "array([[ 17256, 128065],\n",
       "       [ 17489, 127775]], dtype=int64)"
      ]
     },
     "execution_count": 30,
     "metadata": {},
     "output_type": "execute_result"
    }
   ],
   "source": [
    "df_unique_ct.values"
   ]
  },
  {
   "cell_type": "code",
   "execution_count": 33,
   "id": "7fd2fcad-782d-48c0-b595-920e92fd5d99",
   "metadata": {},
   "outputs": [],
   "source": [
    "results = stats.chi2_contingency(df_unique_ct, correction=False)\n",
    "#https://docs.scipy.org/doc/scipy/reference/generated/scipy.stats.chi2_contingency.html"
   ]
  },
  {
   "cell_type": "code",
   "execution_count": 35,
   "id": "9567e44c-57f2-4db3-8c65-b52d73bb6de4",
   "metadata": {},
   "outputs": [
    {
     "name": "stdout",
     "output_type": "stream",
     "text": [
      "Pearson’s chi-squared test p-value is:  0.17032977708656222\n"
     ]
    }
   ],
   "source": [
    "print('Pearson’s chi-squared test p-value is: ', results[1])"
   ]
  },
  {
   "cell_type": "code",
   "execution_count": null,
   "id": "38c66cfe-6d7f-4aea-80d3-3e5552971576",
   "metadata": {},
   "outputs": [],
   "source": []
  }
 ],
 "metadata": {
  "kernelspec": {
   "display_name": "Python 3 (ipykernel)",
   "language": "python",
   "name": "python3"
  },
  "language_info": {
   "codemirror_mode": {
    "name": "ipython",
    "version": 3
   },
   "file_extension": ".py",
   "mimetype": "text/x-python",
   "name": "python",
   "nbconvert_exporter": "python",
   "pygments_lexer": "ipython3",
   "version": "3.9.13"
  }
 },
 "nbformat": 4,
 "nbformat_minor": 5
}
